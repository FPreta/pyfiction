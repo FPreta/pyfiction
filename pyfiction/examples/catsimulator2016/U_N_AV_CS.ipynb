{
 "cells": [
  {
   "cell_type": "code",
   "execution_count": 1,
   "metadata": {},
   "outputs": [
    {
     "name": "stderr",
     "output_type": "stream",
     "text": [
      "Using TensorFlow backend.\n",
      "/Users/francescopreta/anaconda3/lib/python3.6/site-packages/h5py/__init__.py:36: FutureWarning: Conversion of the second argument of issubdtype from `float` to `np.floating` is deprecated. In future, it will be treated as `np.float64 == np.dtype(float).type`.\n",
      "  from ._conv import register_converters as _register_converters\n"
     ]
    },
    {
     "name": "stdout",
     "output_type": "stream",
     "text": [
      "---------------\n",
      "Complete model:\n",
      "____________________________________________________________________________________________________\n",
      "Layer (type)                     Output Shape          Param #     Connected to                     \n",
      "====================================================================================================\n",
      "input_state (InputLayer)         (None, None)          0                                            \n",
      "____________________________________________________________________________________________________\n",
      "input_action (InputLayer)        (None, None)          0                                            \n",
      "____________________________________________________________________________________________________\n",
      "embedding_shared (Embedding)     (None, None, 300)     109500      input_state[0][0]                \n",
      "                                                                   input_action[0][0]               \n",
      "____________________________________________________________________________________________________\n",
      "lambda_1 (Lambda)                (None, 300)           0           embedding_shared[0][0]           \n",
      "                                                                   embedding_shared[1][0]           \n",
      "____________________________________________________________________________________________________\n",
      "dense_state (Dense)              (None, 8)             2408        lambda_1[0][0]                   \n",
      "____________________________________________________________________________________________________\n",
      "dense_action (Dense)             (None, 8)             2408        lambda_1[1][0]                   \n",
      "____________________________________________________________________________________________________\n",
      "dot_state_action (Model)         (None, 1)             0           dense_state[0][0]                \n",
      "                                                                   dense_action[0][0]               \n",
      "====================================================================================================\n",
      "Total params: 114,316\n",
      "Trainable params: 4,816\n",
      "Non-trainable params: 109,500\n",
      "____________________________________________________________________________________________________\n",
      "---------------\n"
     ]
    }
   ],
   "source": [
    "import logging\n",
    "logging.basicConfig(filename = 'U_N_AV_CS.txt', filemode='w', level=logging.INFO)\n",
    "\n",
    "import numpy as np\n",
    "import os\n",
    "\n",
    "from collections import defaultdict\n",
    "from keras.optimizers import RMSprop\n",
    "from keras.utils import plot_model\n",
    "from pyfiction.agents.ssaqn_agent import SSAQNAgent\n",
    "from pyfiction.agents.ssaqn_agent import load_embeddings\n",
    "from pyfiction.simulators.games.catsimulator2016_simulator import CatSimulator2016Simulator\n",
    "from pyfiction.simulators.text_games.simulators.MySimulator import StoryNode\n",
    "\n",
    "logger = logging.getLogger(__name__)\n",
    "\n",
    "\"\"\"\n",
    "An example SSAQN agent for Saving John that uses online learning and prioritized sampling\n",
    "\"\"\"\n",
    "\n",
    "# Create the agent and specify maximum lengths of descriptions (in words)\n",
    "agent = SSAQNAgent(train_simulators=CatSimulator2016Simulator(), mode = 'Average')\n",
    "\n",
    "# Learn the vocabulary (the function samples the game using a random policy)\n",
    "agent.initialize_tokens('vocabulary.txt')\n",
    "\n",
    "optimizer = RMSprop(lr=0.0001)\n",
    "\n",
    "embedding_dimensions = 300\n",
    "lstm_dimensions = 32\n",
    "dense_dimensions = 8\n",
    "\n",
    "agent.create_model(embedding_dimensions=embedding_dimensions,\n",
    "                   lstm_dimensions=lstm_dimensions,\n",
    "                   dense_dimensions=dense_dimensions,\n",
    "                   optimizer=optimizer,\n",
    "                  embeddings=None,\n",
    "                  embeddings_trainable=None)\n",
    "    \n",
    "\n",
    "# Visualize the model\n",
    "try:\n",
    "    plot_model(agent.model, to_file='model.png', show_shapes=True)\n",
    "except ImportError as e:\n",
    "    logger.warning(\"Couldn't print the model image: {}\".format(e))\n",
    "\n",
    "# Iteratively train the agent on a batch of previously seen examples while continuously expanding the experience buffer\n",
    "# This example seems to converge to the optimal reward of 19.4\n",
    "epochs = 1\n",
    "for i in range(epochs):\n",
    "    logger.info('Epoch %s', i)\n",
    "    agent.train_online(episodes=256, batch_size=64, gamma=0.95, epsilon_decay=0.99, prioritized_fraction=0.25)\n"
   ]
  },
  {
   "cell_type": "code",
   "execution_count": null,
   "metadata": {},
   "outputs": [],
   "source": []
  }
 ],
 "metadata": {
  "kernelspec": {
   "display_name": "Python 3",
   "language": "python",
   "name": "python3"
  },
  "language_info": {
   "codemirror_mode": {
    "name": "ipython",
    "version": 3
   },
   "file_extension": ".py",
   "mimetype": "text/x-python",
   "name": "python",
   "nbconvert_exporter": "python",
   "pygments_lexer": "ipython3",
   "version": "3.6.5"
  }
 },
 "nbformat": 4,
 "nbformat_minor": 2
}
